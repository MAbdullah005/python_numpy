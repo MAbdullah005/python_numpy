{
 "cells": [
  {
   "cell_type": "markdown",
   "id": "b0d07488-ad88-4824-bdc0-2f95e341dbe0",
   "metadata": {},
   "source": [
    "# Data Type in numpy"
   ]
  },
  {
   "cell_type": "code",
   "execution_count": 2,
   "id": "b240bbbd-8868-424f-9aa3-1d66fe226718",
   "metadata": {},
   "outputs": [
    {
     "name": "stdout",
     "output_type": "stream",
     "text": [
      "[1 2 3 4]\n",
      "[1. 2. 3. 4.]\n",
      "float32\n"
     ]
    }
   ],
   "source": [
    "import numpy as np\n",
    "x=np.array([1,2,3,4])\n",
    "print(x)\n",
    "z=np.float32(x)\n",
    "print(z)\n",
    "print(z.dtype)\n",
    "f=np.array([1.1,1.4,4.5,1.1,1.4,4.5,1.1,1.4,4.5])\n",
    "print(f)"
   ]
  },
  {
   "cell_type": "code",
   "execution_count": null,
   "id": "d675fdcb-651f-4dfe-ac49-eec322f9edb2",
   "metadata": {},
   "outputs": [],
   "source": []
  }
 ],
 "metadata": {
  "kernelspec": {
   "display_name": "Python 3 (ipykernel)",
   "language": "python",
   "name": "python3"
  },
  "language_info": {
   "codemirror_mode": {
    "name": "ipython",
    "version": 3
   },
   "file_extension": ".py",
   "mimetype": "text/x-python",
   "name": "python",
   "nbconvert_exporter": "python",
   "pygments_lexer": "ipython3",
   "version": "3.13.1"
  }
 },
 "nbformat": 4,
 "nbformat_minor": 5
}
