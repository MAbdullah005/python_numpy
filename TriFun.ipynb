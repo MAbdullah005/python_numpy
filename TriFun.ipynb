{
 "cells": [
  {
   "cell_type": "markdown",
   "id": "41af5b9d-701f-446c-a8aa-8d476f4822e4",
   "metadata": {},
   "source": [
    "# Trignometry functiopn"
   ]
  },
  {
   "cell_type": "code",
   "execution_count": 1,
   "id": "cd641d1f-1bee-48a8-a235-00aa30ed3a7c",
   "metadata": {},
   "outputs": [
    {
     "name": "stdout",
     "output_type": "stream",
     "text": [
      "[ 0.54030231 -0.41614684 -0.9899925  -0.65364362]\n",
      "[ 0.84147098  0.90929743  0.14112001 -0.7568025 ]\n",
      "[1 3 6]\n"
     ]
    }
   ],
   "source": [
    "import numpy as np\n",
    "var2=np.array([1,2,3,4])\n",
    "print(np.cos(var2))\n",
    "print(np.sin(var2))\n",
    "var=np.array([1,2,3])\n",
    "print(np.cumsum(var))"
   ]
  }
 ],
 "metadata": {
  "kernelspec": {
   "display_name": "Python 3 (ipykernel)",
   "language": "python",
   "name": "python3"
  },
  "language_info": {
   "codemirror_mode": {
    "name": "ipython",
    "version": 3
   },
   "file_extension": ".py",
   "mimetype": "text/x-python",
   "name": "python",
   "nbconvert_exporter": "python",
   "pygments_lexer": "ipython3",
   "version": "3.13.1"
  }
 },
 "nbformat": 4,
 "nbformat_minor": 5
}
