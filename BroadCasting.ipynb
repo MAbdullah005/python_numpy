{
 "cells": [
  {
   "cell_type": "markdown",
   "id": "8eacf2bb-8ee0-4a3b-b176-cf1d8c71d771",
   "metadata": {},
   "source": [
    "# Boardcasting"
   ]
  },
  {
   "cell_type": "code",
   "execution_count": 2,
   "id": "82f2a03f-e572-4890-ab82-fc9970ea4133",
   "metadata": {},
   "outputs": [
    {
     "name": "stdout",
     "output_type": "stream",
     "text": [
      "(3,)\n",
      "[1 2 3]\n",
      "(3, 1)\n",
      "[[1]\n",
      " [2]\n",
      " [3]]\n",
      "(3, 3)\n",
      "[[2 3 4]\n",
      " [3 4 5]\n",
      " [4 5 6]]\n",
      "(2, 1)\n",
      "(2, 3)\n",
      "[[2 3 4]\n",
      " [6 7 8]]\n"
     ]
    }
   ],
   "source": [
    "import numpy as np\n",
    "\n",
    "\n",
    "var1=np.array([1,2,3])\n",
    "print(var1.shape)\n",
    "print(var1)\n",
    "var2=np.array([[1],[2],[3]])\n",
    "print(var2.shape)\n",
    "print(var2)\n",
    "var3=var1+var2\n",
    "print(var3.shape)\n",
    "print(var3)\n",
    "x=np.array([[1],[2]])\n",
    "print(x.shape)\n",
    "y=np.array([[1,2,3],[4,5,6]])\n",
    "print(y.shape)\n",
    "print(x+y)"
   ]
  },
  {
   "cell_type": "markdown",
   "id": "c28386d7-e351-4507-a0db-0fb294f21f5c",
   "metadata": {},
   "source": [
    "# Shape"
   ]
  },
  {
   "cell_type": "code",
   "execution_count": 3,
   "id": "5893f39f-a48f-44e1-b466-0bc2c8e3f6e8",
   "metadata": {},
   "outputs": [
    {
     "name": "stdout",
     "output_type": "stream",
     "text": [
      "[[1 2 3]\n",
      " [4 5 6]]\n",
      "\n",
      "(2, 3)\n",
      "[[[[1 2 3 4]]]]\n",
      "4\n",
      "(1, 1, 1, 4)\n"
     ]
    }
   ],
   "source": [
    "var=np.array([[1,2,3],[4,5,6]])\n",
    "print(var)\n",
    "print()\n",
    "print(var.shape)\n",
    "var1=np.array([1,2,3,4],ndmin=4)\n",
    "print(var1)\n",
    "print(var1.ndim)\n",
    "print(var1.shape)"
   ]
  },
  {
   "cell_type": "markdown",
   "id": "b0f8bce4-4502-46eb-aa49-4eb2536587ad",
   "metadata": {},
   "source": [
    "# Reshape"
   ]
  },
  {
   "cell_type": "code",
   "execution_count": 4,
   "id": "9523f8bf-dd34-4260-94db-7383cea4d786",
   "metadata": {},
   "outputs": [
    {
     "name": "stdout",
     "output_type": "stream",
     "text": [
      "[ 1  2  3  4  5  6  7  8  9 10 11 12]\n",
      "1\n",
      "[[[ 1  2]\n",
      "  [ 3  4]\n",
      "  [ 5  6]]\n",
      "\n",
      " [[ 7  8]\n",
      "  [ 9 10]\n",
      "  [11 12]]]\n",
      "[ 1  2  3  4  5  6  7  8  9 10 11 12]\n"
     ]
    }
   ],
   "source": [
    "var2=np.array([1,2,3,4,5,6,7,8,9,10,11,12])\n",
    "print(var2)\n",
    "print(var2.ndim)\n",
    "x=var2.reshape(2,3,2)\n",
    "print(x) \n",
    "one=x.reshape(-1)\n",
    "print(one)"
   ]
  }
 ],
 "metadata": {
  "kernelspec": {
   "display_name": "Python 3 (ipykernel)",
   "language": "python",
   "name": "python3"
  },
  "language_info": {
   "codemirror_mode": {
    "name": "ipython",
    "version": 3
   },
   "file_extension": ".py",
   "mimetype": "text/x-python",
   "name": "python",
   "nbconvert_exporter": "python",
   "pygments_lexer": "ipython3",
   "version": "3.13.1"
  }
 },
 "nbformat": 4,
 "nbformat_minor": 5
}
