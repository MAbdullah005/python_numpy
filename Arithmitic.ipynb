{
 "cells": [
  {
   "cell_type": "markdown",
   "id": "92a02393-b444-4c65-9430-07ee637f9967",
   "metadata": {},
   "source": [
    "# Arthimatic Function"
   ]
  },
  {
   "cell_type": "code",
   "execution_count": 2,
   "id": "f47af000-3a8b-48cc-8276-5ab353f02246",
   "metadata": {},
   "outputs": [
    {
     "name": "stdout",
     "output_type": "stream",
     "text": [
      "[1 2 3 4]\n",
      "[1. 2. 3. 4.]\n",
      "[1.         1.41421356 1.73205081 2.         2.23606798]\n",
      "5 3\n",
      "1 0\n",
      "a\n",
      "[1 2 3] 5\n",
      "b\n"
     ]
    }
   ],
   "source": [
    "import numpy as np\n",
    "x=np.array([1,2,3,4])\n",
    "new1=x.astype(float)\n",
    "print(x)\n",
    "print(new1)\n",
    "x=np.array([1,2,3,4,5])\n",
    "print(np.sqrt(x))\n",
    "var=np.array([1,2,4,5])\n",
    "print(np.max(var),np.argmax(var))\n",
    "print(np.min(var),np.argmin(var))\n",
    "var=np.array([[1,2,3],[4,5,6]])\n",
    "print(\"a\")\n",
    "print(np.min(var,axis=0),np.argmax(var))\n",
    "print(\"b\")"
   ]
  }
 ],
 "metadata": {
  "kernelspec": {
   "display_name": "Python 3 (ipykernel)",
   "language": "python",
   "name": "python3"
  },
  "language_info": {
   "codemirror_mode": {
    "name": "ipython",
    "version": 3
   },
   "file_extension": ".py",
   "mimetype": "text/x-python",
   "name": "python",
   "nbconvert_exporter": "python",
   "pygments_lexer": "ipython3",
   "version": "3.13.1"
  }
 },
 "nbformat": 4,
 "nbformat_minor": 5
}
